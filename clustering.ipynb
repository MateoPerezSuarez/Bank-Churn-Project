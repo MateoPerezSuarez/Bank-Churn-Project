{
 "cells": [
  {
   "cell_type": "code",
   "execution_count": 140,
   "metadata": {},
   "outputs": [],
   "source": [
    "# Load libraries\n",
    "import pandas as pd\n",
    "import numpy as np\n",
    "import seaborn as sns\n",
    "import matplotlib.pyplot as plt\n",
    "from sklearn.ensemble import RandomForestClassifier\n",
    "from sklearn.model_selection import cross_val_score, train_test_split\n",
    "import plotly.graph_objects as go\n",
    "from sklearn.preprocessing import OneHotEncoder, MinMaxScaler, StandardScaler\n",
    "from sklearn.feature_selection import VarianceThreshold, SequentialFeatureSelector, RFE, SelectFromModel, SelectKBest, chi2, f_classif\n",
    "from sklearn.naive_bayes import GaussianNB\n",
    "from sklearn.pipeline import make_pipeline\n",
    "from sklearn.linear_model import LogisticRegression\n",
    "from sklearn import svm\n",
    "from sklearn.metrics import classification_report, roc_auc_score, accuracy_score"
   ]
  },
  {
   "cell_type": "code",
   "execution_count": 141,
   "metadata": {},
   "outputs": [],
   "source": [
    "data = pd.read_csv(r'src\\rawDataset.csv')"
   ]
  },
  {
   "cell_type": "code",
   "execution_count": 142,
   "metadata": {},
   "outputs": [],
   "source": [
    "data.drop(columns=['RowNumber','Surname','CustomerId'], inplace= True)"
   ]
  },
  {
   "cell_type": "code",
   "execution_count": 143,
   "metadata": {},
   "outputs": [],
   "source": [
    "numeric_columns = [\"CreditScore\", \"Tenure\", \"Balance\", \"EstimatedSalary\", \"Point Earned\"]"
   ]
  },
  {
   "cell_type": "code",
   "execution_count": 144,
   "metadata": {},
   "outputs": [],
   "source": [
    "bins = [0, 30, 40, 50, 60, 100]  \n",
    "labels = ['<30', '30-40', '40-50', '50-60', '>60']\n",
    "\n",
    "data['Age'] = pd.cut(data['Age'], bins=bins, labels=labels, right=False)\n"
   ]
  },
  {
   "cell_type": "code",
   "execution_count": 145,
   "metadata": {},
   "outputs": [],
   "source": [
    "categorical_columns = ['Age', 'Geography', 'Gender', 'NumOfProducts', 'HasCrCard', 'IsActiveMember', 'Complain', 'Satisfaction Score', 'Card Type']"
   ]
  },
  {
   "cell_type": "code",
   "execution_count": 146,
   "metadata": {},
   "outputs": [
    {
     "data": {
      "text/html": [
       "<div>\n",
       "<style scoped>\n",
       "    .dataframe tbody tr th:only-of-type {\n",
       "        vertical-align: middle;\n",
       "    }\n",
       "\n",
       "    .dataframe tbody tr th {\n",
       "        vertical-align: top;\n",
       "    }\n",
       "\n",
       "    .dataframe thead th {\n",
       "        text-align: right;\n",
       "    }\n",
       "</style>\n",
       "<table border=\"1\" class=\"dataframe\">\n",
       "  <thead>\n",
       "    <tr style=\"text-align: right;\">\n",
       "      <th></th>\n",
       "      <th>CreditScore</th>\n",
       "      <th>Age</th>\n",
       "      <th>Tenure</th>\n",
       "      <th>Balance</th>\n",
       "      <th>NumOfProducts</th>\n",
       "      <th>HasCrCard</th>\n",
       "      <th>IsActiveMember</th>\n",
       "      <th>EstimatedSalary</th>\n",
       "      <th>Exited</th>\n",
       "      <th>Complain</th>\n",
       "      <th>Satisfaction Score</th>\n",
       "      <th>Point Earned</th>\n",
       "      <th>Gender_Male</th>\n",
       "      <th>Geography_Germany</th>\n",
       "      <th>Geography_Spain</th>\n",
       "      <th>Card Type_GOLD</th>\n",
       "      <th>Card Type_PLATINUM</th>\n",
       "      <th>Card Type_SILVER</th>\n",
       "    </tr>\n",
       "  </thead>\n",
       "  <tbody>\n",
       "    <tr>\n",
       "      <th>0</th>\n",
       "      <td>619</td>\n",
       "      <td>40-50</td>\n",
       "      <td>2</td>\n",
       "      <td>0.00</td>\n",
       "      <td>1</td>\n",
       "      <td>1</td>\n",
       "      <td>1</td>\n",
       "      <td>101348.88</td>\n",
       "      <td>1</td>\n",
       "      <td>1</td>\n",
       "      <td>2</td>\n",
       "      <td>464</td>\n",
       "      <td>0</td>\n",
       "      <td>0</td>\n",
       "      <td>0</td>\n",
       "      <td>0</td>\n",
       "      <td>0</td>\n",
       "      <td>0</td>\n",
       "    </tr>\n",
       "    <tr>\n",
       "      <th>1</th>\n",
       "      <td>608</td>\n",
       "      <td>40-50</td>\n",
       "      <td>1</td>\n",
       "      <td>83807.86</td>\n",
       "      <td>1</td>\n",
       "      <td>0</td>\n",
       "      <td>1</td>\n",
       "      <td>112542.58</td>\n",
       "      <td>0</td>\n",
       "      <td>1</td>\n",
       "      <td>3</td>\n",
       "      <td>456</td>\n",
       "      <td>0</td>\n",
       "      <td>0</td>\n",
       "      <td>1</td>\n",
       "      <td>0</td>\n",
       "      <td>0</td>\n",
       "      <td>0</td>\n",
       "    </tr>\n",
       "    <tr>\n",
       "      <th>2</th>\n",
       "      <td>502</td>\n",
       "      <td>40-50</td>\n",
       "      <td>8</td>\n",
       "      <td>159660.80</td>\n",
       "      <td>3</td>\n",
       "      <td>1</td>\n",
       "      <td>0</td>\n",
       "      <td>113931.57</td>\n",
       "      <td>1</td>\n",
       "      <td>1</td>\n",
       "      <td>3</td>\n",
       "      <td>377</td>\n",
       "      <td>0</td>\n",
       "      <td>0</td>\n",
       "      <td>0</td>\n",
       "      <td>0</td>\n",
       "      <td>0</td>\n",
       "      <td>0</td>\n",
       "    </tr>\n",
       "    <tr>\n",
       "      <th>3</th>\n",
       "      <td>699</td>\n",
       "      <td>30-40</td>\n",
       "      <td>1</td>\n",
       "      <td>0.00</td>\n",
       "      <td>2</td>\n",
       "      <td>0</td>\n",
       "      <td>0</td>\n",
       "      <td>93826.63</td>\n",
       "      <td>0</td>\n",
       "      <td>0</td>\n",
       "      <td>5</td>\n",
       "      <td>350</td>\n",
       "      <td>0</td>\n",
       "      <td>0</td>\n",
       "      <td>0</td>\n",
       "      <td>1</td>\n",
       "      <td>0</td>\n",
       "      <td>0</td>\n",
       "    </tr>\n",
       "    <tr>\n",
       "      <th>4</th>\n",
       "      <td>850</td>\n",
       "      <td>40-50</td>\n",
       "      <td>2</td>\n",
       "      <td>125510.82</td>\n",
       "      <td>1</td>\n",
       "      <td>1</td>\n",
       "      <td>1</td>\n",
       "      <td>79084.10</td>\n",
       "      <td>0</td>\n",
       "      <td>0</td>\n",
       "      <td>5</td>\n",
       "      <td>425</td>\n",
       "      <td>0</td>\n",
       "      <td>0</td>\n",
       "      <td>1</td>\n",
       "      <td>1</td>\n",
       "      <td>0</td>\n",
       "      <td>0</td>\n",
       "    </tr>\n",
       "  </tbody>\n",
       "</table>\n",
       "</div>"
      ],
      "text/plain": [
       "   CreditScore    Age  Tenure    Balance  NumOfProducts  HasCrCard  \\\n",
       "0          619  40-50       2       0.00              1          1   \n",
       "1          608  40-50       1   83807.86              1          0   \n",
       "2          502  40-50       8  159660.80              3          1   \n",
       "3          699  30-40       1       0.00              2          0   \n",
       "4          850  40-50       2  125510.82              1          1   \n",
       "\n",
       "   IsActiveMember  EstimatedSalary  Exited  Complain  Satisfaction Score  \\\n",
       "0               1        101348.88       1         1                   2   \n",
       "1               1        112542.58       0         1                   3   \n",
       "2               0        113931.57       1         1                   3   \n",
       "3               0         93826.63       0         0                   5   \n",
       "4               1         79084.10       0         0                   5   \n",
       "\n",
       "   Point Earned  Gender_Male  Geography_Germany  Geography_Spain  \\\n",
       "0           464            0                  0                0   \n",
       "1           456            0                  0                1   \n",
       "2           377            0                  0                0   \n",
       "3           350            0                  0                0   \n",
       "4           425            0                  0                1   \n",
       "\n",
       "   Card Type_GOLD  Card Type_PLATINUM  Card Type_SILVER  \n",
       "0               0                   0                 0  \n",
       "1               0                   0                 0  \n",
       "2               0                   0                 0  \n",
       "3               1                   0                 0  \n",
       "4               1                   0                 0  "
      ]
     },
     "execution_count": 146,
     "metadata": {},
     "output_type": "execute_result"
    }
   ],
   "source": [
    "encoder = OneHotEncoder(sparse_output=False, drop='first', dtype=int)\n",
    "\n",
    "catcols = ['Gender','Geography', 'Card Type']\n",
    "encData = encoder.fit_transform(data[catcols])\n",
    "encDF = pd.DataFrame(encData, columns=encoder.get_feature_names_out(catcols))\n",
    "data2 = pd.concat([data.drop(columns= catcols),encDF],axis=1)\n",
    "\n",
    "data2.head()"
   ]
  },
  {
   "cell_type": "code",
   "execution_count": 147,
   "metadata": {},
   "outputs": [],
   "source": [
    "def winsorize_outliers(data, column, multiplier):\n",
    "    q1 = data[column].quantile(0.25)\n",
    "    q3 = data[column].quantile(0.75)\n",
    "    iqr = q3 - q1\n",
    "    low_bound = q1 - multiplier * iqr\n",
    "    high_bound = q3 + multiplier * iqr\n",
    "\n",
    "    data[column] = np.where(data[column] < low_bound, low_bound, data[column])\n",
    "    data[column] = np.where(data[column] > high_bound, high_bound, data[column])"
   ]
  },
  {
   "cell_type": "code",
   "execution_count": 148,
   "metadata": {},
   "outputs": [],
   "source": [
    "data['Tenure'] = data['Tenure'].astype(int)\n",
    "data['NumOfProducts'] = data['NumOfProducts'].astype(int)\n",
    "data['HasCrCard'] = data['HasCrCard'].astype(int)\n",
    "data['IsActiveMember'] = data['IsActiveMember'].astype(int)\n",
    "data['Exited'] = data['Exited'].astype(int)\n",
    "data['Complain'] = data['Complain'].astype(int)\n",
    "data['Satisfaction Score'] = data['Satisfaction Score'].astype(int)"
   ]
  },
  {
   "cell_type": "code",
   "execution_count": 149,
   "metadata": {},
   "outputs": [],
   "source": [
    "scaler = StandardScaler()\n",
    "data[numeric_columns]= scaler.fit_transform(data[numeric_columns])"
   ]
  },
  {
   "cell_type": "code",
   "execution_count": 150,
   "metadata": {},
   "outputs": [],
   "source": [
    "data['Balance_to_Salary'] = data['Balance'] / (data['EstimatedSalary'] + 1)"
   ]
  },
  {
   "cell_type": "markdown",
   "metadata": {},
   "source": [
    "# ahora mi parte"
   ]
  },
  {
   "cell_type": "code",
   "execution_count": 151,
   "metadata": {},
   "outputs": [],
   "source": [
    "import pandas as pd\n",
    "import numpy as np\n",
    "from sklearn.preprocessing import StandardScaler, LabelEncoder\n",
    "from sklearn.decomposition import PCA\n",
    "from sklearn.cluster import KMeans\n",
    "from sklearn.metrics import silhouette_score\n",
    "import matplotlib.pyplot as plt\n",
    "import seaborn as sns"
   ]
  },
  {
   "cell_type": "code",
   "execution_count": 152,
   "metadata": {},
   "outputs": [],
   "source": [
    "from sklearn.cluster import KMeans, AgglomerativeClustering, Birch\n",
    "from sklearn.metrics import (adjusted_rand_score, mutual_info_score, homogeneity_score,\n",
    "                             completeness_score, v_measure_score, silhouette_score,\n",
    "                             calinski_harabasz_score, davies_bouldin_score)\n"
   ]
  },
  {
   "cell_type": "code",
   "execution_count": 153,
   "metadata": {},
   "outputs": [],
   "source": [
    "numerical_features = ['CreditScore', 'Age', 'Tenure', 'Balance', 'NumOfProducts', 'EstimatedSalary', 'Point Earned', 'Balance_to_Salary']\n",
    "categorical_features = ['Geography', 'Gender', 'Card Type']"
   ]
  },
  {
   "cell_type": "code",
   "execution_count": 154,
   "metadata": {},
   "outputs": [
    {
     "name": "stdout",
     "output_type": "stream",
     "text": [
      "        CreditScore        Tenure       Balance  NumOfProducts  \\\n",
      "count  1.000000e+04  1.000000e+04  1.000000e+04   10000.000000   \n",
      "mean  -4.824585e-16 -1.078249e-16 -6.252776e-17       1.530200   \n",
      "std    1.000050e+00  1.000050e+00  1.000050e+00       0.581654   \n",
      "min   -3.109504e+00 -1.733315e+00 -1.225848e+00       1.000000   \n",
      "25%   -6.883586e-01 -6.959818e-01 -1.225848e+00       1.000000   \n",
      "50%    1.522218e-02 -4.425957e-03  3.319639e-01       1.000000   \n",
      "75%    6.981094e-01  6.871299e-01  8.199205e-01       2.000000   \n",
      "max    2.063884e+00  1.724464e+00  2.795323e+00       4.000000   \n",
      "\n",
      "       EstimatedSalary  Point Earned  Balance_to_Salary  \n",
      "count     1.000000e+04  1.000000e+04       10000.000000  \n",
      "mean     -2.877698e-17  1.696421e-16          -5.866980  \n",
      "std       1.000050e+00  1.000050e+00         373.829180  \n",
      "min      -1.740268e+00 -2.157972e+00      -27423.703728  \n",
      "25%      -8.535935e-01 -8.698686e-01          -0.876574  \n",
      "50%       1.802807e-03 -6.706548e-03           0.182933  \n",
      "75%       8.572431e-01  8.608820e-01           0.782337  \n",
      "max       1.737200e+00  1.741750e+00        2681.188556  \n"
     ]
    }
   ],
   "source": [
    "print(data[numerical_features].describe())"
   ]
  },
  {
   "cell_type": "code",
   "execution_count": 155,
   "metadata": {},
   "outputs": [],
   "source": [
    "data2 = data.drop(columns=[\"Exited\"])"
   ]
  },
  {
   "cell_type": "code",
   "execution_count": 156,
   "metadata": {},
   "outputs": [],
   "source": [
    "data_C = data2[numeric_columns + ['Balance_to_Salary']]\n"
   ]
  },
  {
   "cell_type": "code",
   "execution_count": 157,
   "metadata": {},
   "outputs": [],
   "source": [
    "y = data[\"Exited\"]"
   ]
  },
  {
   "cell_type": "code",
   "execution_count": 158,
   "metadata": {},
   "outputs": [],
   "source": [
    "inertia = []\n",
    "for k in range(1, 7):\n",
    "    kmeans = KMeans(n_clusters=k, random_state=42)\n",
    "    kmeans.fit(data_C)\n",
    "    inertia.append(kmeans.inertia_)"
   ]
  },
  {
   "cell_type": "code",
   "execution_count": 159,
   "metadata": {},
   "outputs": [
    {
     "data": {
      "image/png": "[encoded data removed]",
      "text/plain": [
       "<Figure size 800x600 with 1 Axes>"
      ]
     },
     "metadata": {},
     "output_type": "display_data"
    }
   ],
   "source": [
    "plt.figure(figsize=(8, 6))\n",
    "plt.plot(range(1, 7), inertia, marker='o')\n",
    "plt.title(\"Elbow Method\")\n",
    "plt.xlabel(\"N Clusters\")\n",
    "plt.ylabel(\"Inertia\")\n",
    "plt.show()"
   ]
  },
  {
   "cell_type": "code",
   "execution_count": 160,
   "metadata": {},
   "outputs": [],
   "source": [
    "cluster_num = 2"
   ]
  },
  {
   "cell_type": "code",
   "execution_count": 161,
   "metadata": {},
   "outputs": [],
   "source": [
    "res = {}"
   ]
  },
  {
   "cell_type": "code",
   "execution_count": 162,
   "metadata": {},
   "outputs": [],
   "source": [
    "def evaluate_clustering(true_labels, pred_labels, algorithm_name, data):\n",
    "    res[algorithm_name] = {\n",
    "      'Silhouette Score': silhouette_score(data, pred_labels),\n",
    "        'Calinski-Harabasz Index': calinski_harabasz_score(data, pred_labels),\n",
    "        'Davies-Bouldin Index': davies_bouldin_score(data, pred_labels),\n",
    "    }"
   ]
  },
  {
   "cell_type": "markdown",
   "metadata": {},
   "source": [
    "partitioning"
   ]
  },
  {
   "cell_type": "code",
   "execution_count": 163,
   "metadata": {},
   "outputs": [],
   "source": [
    "kmeans = KMeans(n_clusters=cluster_num)\n",
    "kmeans_labels = kmeans.fit_predict(data_C)"
   ]
  },
  {
   "cell_type": "code",
   "execution_count": 164,
   "metadata": {},
   "outputs": [],
   "source": [
    "evaluate_clustering(y, kmeans_labels, 'KMeans', data_C)"
   ]
  },
  {
   "cell_type": "code",
   "execution_count": 165,
   "metadata": {},
   "outputs": [
    {
     "name": "stdout",
     "output_type": "stream",
     "text": [
      "KMeans results:\n",
      "Silhouette Score: 0.9994655144147532\n",
      "Calinski-Harabasz Index: 88649.83922775989\n",
      "Davies-Bouldin Index: 0.09455651748958586\n"
     ]
    }
   ],
   "source": [
    "print('KMeans results:')\n",
    "for metric, score in res['KMeans'].items():\n",
    "    print(f\"{metric}: {score}\")"
   ]
  },
  {
   "cell_type": "markdown",
   "metadata": {},
   "source": [
    "hierarchical (does not compute cluster centers)"
   ]
  },
  {
   "cell_type": "code",
   "execution_count": 166,
   "metadata": {},
   "outputs": [],
   "source": [
    "agglo = AgglomerativeClustering(n_clusters=cluster_num)\n",
    "data['Cluster'] = agglo.fit_predict(data_C)"
   ]
  },
  {
   "cell_type": "markdown",
   "metadata": {},
   "source": [
    "BIRCH"
   ]
  },
  {
   "cell_type": "code",
   "execution_count": 167,
   "metadata": {},
   "outputs": [],
   "source": [
    "birch = Birch(n_clusters=cluster_num)\n",
    "birch_labels = birch.fit_predict(data_C)"
   ]
  },
  {
   "cell_type": "code",
   "execution_count": 168,
   "metadata": {},
   "outputs": [],
   "source": [
    "evaluate_clustering(y, birch_labels, 'BIRCH', data_C)"
   ]
  },
  {
   "cell_type": "code",
   "execution_count": 169,
   "metadata": {},
   "outputs": [
    {
     "name": "stdout",
     "output_type": "stream",
     "text": [
      "BIRCH results:\n",
      "Silhouette Score: 0.9994655144147532\n",
      "Calinski-Harabasz Index: 88649.83922775989\n",
      "Davies-Bouldin Index: 0.09455651748958586\n"
     ]
    }
   ],
   "source": [
    "print('BIRCH results:')\n",
    "for metric, score in res['BIRCH'].items():\n",
    "    print(f\"{metric}: {score}\")"
   ]
  },
  {
   "cell_type": "markdown",
   "metadata": {},
   "source": [
    "density based"
   ]
  },
  {
   "cell_type": "code",
   "execution_count": 170,
   "metadata": {},
   "outputs": [],
   "source": [
    "from sklearn.cluster import OPTICS\n",
    "optics = OPTICS(min_samples=5, xi=0.05, min_cluster_size=0.05)  # Adjust parameters as needed\n",
    "optc_labels = optics.fit_predict(data_C)"
   ]
  },
  {
   "cell_type": "code",
   "execution_count": 171,
   "metadata": {},
   "outputs": [],
   "source": [
    "evaluate_clustering(y, optc_labels, 'OPTICS', data_C)"
   ]
  },
  {
   "cell_type": "code",
   "execution_count": 172,
   "metadata": {},
   "outputs": [
    {
     "name": "stdout",
     "output_type": "stream",
     "text": [
      "OPTICS results:\n",
      "Silhouette Score: 0.9749756427264294\n",
      "Calinski-Harabasz Index: 258.2249031118014\n",
      "Davies-Bouldin Index: 2.05304685205601\n"
     ]
    }
   ],
   "source": [
    "print('OPTICS results:')\n",
    "for metric, score in res['OPTICS'].items():\n",
    "    print(f\"{metric}: {score}\")"
   ]
  },
  {
   "cell_type": "code",
   "execution_count": 173,
   "metadata": {},
   "outputs": [],
   "source": [
    "from sklearn.cluster import DBSCAN\n",
    "dbscan = DBSCAN(eps=0.5, min_samples=cluster_num)\n",
    "dbscan_labels = dbscan.fit_predict(data_C)"
   ]
  },
  {
   "cell_type": "code",
   "execution_count": 174,
   "metadata": {},
   "outputs": [],
   "source": [
    "evaluate_clustering(y, dbscan_labels, 'DBSCAN', data_C)"
   ]
  },
  {
   "cell_type": "code",
   "execution_count": 175,
   "metadata": {},
   "outputs": [
    {
     "name": "stdout",
     "output_type": "stream",
     "text": [
      "DBSCAN results:\n",
      "Silhouette Score: -0.49718586853619884\n",
      "Calinski-Harabasz Index: 0.0076305324421075925\n",
      "Davies-Bouldin Index: 2.4809427775895827\n"
     ]
    }
   ],
   "source": [
    "print('DBSCAN results:')\n",
    "for metric, score in res['DBSCAN'].items():\n",
    "    print(f\"{metric}: {score}\")"
   ]
  },
  {
   "cell_type": "markdown",
   "metadata": {},
   "source": [
    "gaussian"
   ]
  },
  {
   "cell_type": "code",
   "execution_count": 176,
   "metadata": {},
   "outputs": [],
   "source": [
    "from sklearn.mixture import GaussianMixture\n",
    "gmm = GaussianMixture(n_components=cluster_num)\n",
    "gmm_labels = gmm.fit_predict(data_C)"
   ]
  },
  {
   "cell_type": "code",
   "execution_count": 177,
   "metadata": {},
   "outputs": [],
   "source": [
    "evaluate_clustering(y, gmm_labels, 'GaussianMixture', data_C)"
   ]
  },
  {
   "cell_type": "code",
   "execution_count": 178,
   "metadata": {},
   "outputs": [
    {
     "name": "stdout",
     "output_type": "stream",
     "text": [
      "GaussianMixture results:\n",
      "Silhouette Score: 0.9994655144147532\n",
      "Calinski-Harabasz Index: 88649.83922775989\n",
      "Davies-Bouldin Index: 0.09455651748958586\n"
     ]
    }
   ],
   "source": [
    "print('GaussianMixture results:')\n",
    "for metric, score in res['GaussianMixture'].items():\n",
    "    print(f\"{metric}: {score}\")"
   ]
  },
  {
   "cell_type": "markdown",
   "metadata": {},
   "source": [
    "Conclussions"
   ]
  }
 ],
 "metadata": {
  "kernelspec": {
   "display_name": "Python 3",
   "language": "python",
   "name": "python3"
  },
  "language_info": {
   "codemirror_mode": {
    "name": "ipython",
    "version": 3
   },
   "file_extension": ".py",
   "mimetype": "text/x-python",
   "name": "python",
   "nbconvert_exporter": "python",
   "pygments_lexer": "ipython3",
   "version": "3.12.8"
  }
 },
 "nbformat": 4,
 "nbformat_minor": 2
}
