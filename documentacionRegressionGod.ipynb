{
 "cells": [
  {
   "cell_type": "markdown",
   "metadata": {},
   "source": [
    "## Generalized Regression"
   ]
  },
  {
   "cell_type": "markdown",
   "metadata": {},
   "source": [
    "## Intro"
   ]
  },
  {
   "cell_type": "markdown",
   "metadata": {},
   "source": [
    "Linear regression is used to model the relationship between a dependent variable and one independent variables (in our case but we could select multiple variables). We consider it simple and appropriate to start with regression models, that is why we will start with linear regression. \n",
    "\n",
    "To approach this model, first we have chosen the Ridge and Optuna libraries, Ridge is a regularized linear regression variant and we will use it because it prodives us the alpha hyperparameter. Also, Optuna is a nice tool for hyperparameter tuning:\n",
    "\n",
    "- alpha: given by Ridge, 'α' selects the regularization strength, if its 0, it would perform the same as an standard linear regression. We have selected a value between 0.00001 and 300."
   ]
  },
  {
   "cell_type": "markdown",
   "metadata": {},
   "source": [
    "## Outro"
   ]
  },
  {
   "cell_type": "markdown",
   "metadata": {},
   "source": [
    "MSE and RMSE values are high, this means that the model's predictions are far from the actual values.\n",
    "MAPE 7.95 has a low value considering the previous ones and R² is low 0.27, this means that the independent 'balance' variable doesn't explain properly the the variation in the dependent ones. \n",
    "So overall, the model is not performing good, this could be due to outliers in the 'balance' variable, but using the 'exited' variable as a target variable doesnt make sense for regression in our work. "
   ]
  },
  {
   "cell_type": "markdown",
   "metadata": {},
   "source": [
    "# Generalized"
   ]
  },
  {
   "cell_type": "markdown",
   "metadata": {},
   "source": [
    "Generalized Linear Models using the 'TweedieRegressor' library, is a variant of the linear regression that allows a distributions of the target variable. Again, we will use Optuna to optimize the hyperparameters of the model, in this case, 100 tries will be enough to get appropriate hyperparameters:\n",
    "- power: Determines the variance structure of the target variable. We have set a range between 1 and 2.\n",
    "- alpha: As with the linear regression, we will measure the penalty applied to the model to reduce overfitting. We have set a renge of 0.00001 to 10.\n",
    "\n",
    "Again, we dont expect the model to perform well because of the target variable issue, but at least better that the default linear regression model."
   ]
  },
  {
   "cell_type": "markdown",
   "metadata": {},
   "source": [
    "The generalized model did not perform well, and the power and alpha hyperparameters havent lead to significant improvement. Compared with the linear regression we used before this one, even though it handles non gaussian distributions, this model performs worse than we would have expected, because the error measures are worse than before. We think that we should look for other models that could suit better our data."
   ]
  },
  {
   "cell_type": "markdown",
   "metadata": {},
   "source": [
    "# Quantile"
   ]
  },
  {
   "cell_type": "markdown",
   "metadata": {},
   "source": [
    "This is a kind of regression that models a specified quantile of the target variable, instead of the mean. This approach can be useful when the distribution of the target variable has outliers. By choosing different quantiles, you can predict the median or any other quantile instead of just the mean. As we have been having issues with outliers in the previous models, we expect this model to perform, not good, but at least better than the rest. For that, we are using the QuantileRegressor library and Optuna for optimizing its hyperparameters, we will make 30 trials:\n",
    "\n",
    "- Quantile: Defines the quantile to predict (between 0 and 1). A quantile of 0.5 would predict the median, while 0.95 would predict the 95th percentile.\n",
    "\n",
    "- Alpha: This is the regularization parameter we have been regularly using, as before, the larger the alpha, the more regularization is applied."
   ]
  },
  {
   "cell_type": "markdown",
   "metadata": {},
   "source": [
    "The best hyperparameters we found have been 0.632 for the quantile, and 0.00042 for the alpha regularization. After running the model, we see that both MSE and RMSE are high, indicating that, again, the predictions are far from the actual values, similar to the previous models. \n",
    "The MAPE value is extremely high, possibly due to extreme or outlier values, which we though that would be managed by this model, but we now see that it hasnt been like that. The R² value is quite low, so the relationship between the selected features and the target variable is not enough for the model to make predictions.\n",
    "\n",
    "Overall, even optimizing the hyperparameters, we have not been able to handle the target variable, maybe the outliers are so extreme that not even the quantile regression model can handle them."
   ]
  }
 ],
 "metadata": {
  "language_info": {
   "name": "python"
  }
 },
 "nbformat": 4,
 "nbformat_minor": 2
}
