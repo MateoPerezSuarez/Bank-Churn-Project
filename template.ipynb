{
 "cells": [
  {
   "cell_type": "markdown",
   "metadata": {},
   "source": [
    "AQUI HAY QUE ENTREGAR LA MIERDA GORDA\n",
    "- EL DATASET ESTÁ YA LIMPITO\n",
    "- NO HAGAIS COSAS POR HACER QUE EL CODIGO SE LA SOPLA COMPLETAMENTE\n",
    "-"
   ]
  }
 ],
 "metadata": {
  "language_info": {
   "name": "python"
  }
 },
 "nbformat": 4,
 "nbformat_minor": 2
}
