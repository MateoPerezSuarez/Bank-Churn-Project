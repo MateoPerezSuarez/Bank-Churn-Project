{
 "cells": [
  {
   "cell_type": "code",
   "execution_count": 38,
   "metadata": {},
   "outputs": [],
   "source": [
    "from sklearn.feature_selection import VarianceThreshold\n",
    "import pandas as pd\n",
    "import numpy as np\n",
    "import seaborn as sns\n",
    "from sklearn.preprocessing import StandardScaler\n",
    "import matplotlib.pyplot as plt\n",
    "from sklearn.feature_selection import SelectKBest, mutual_info_regression\n",
    "from sklearn.feature_selection import RFE\n",
    "from sklearn.ensemble import RandomForestClassifier\n",
    "from sklearn.feature_selection import SelectFromModel\n",
    "from sklearn.feature_selection import SequentialFeatureSelector"
   ]
  },
  {
   "cell_type": "code",
   "execution_count": 27,
   "metadata": {},
   "outputs": [
    {
     "data": {
      "text/html": [
       "<div>\n",
       "<style scoped>\n",
       "    .dataframe tbody tr th:only-of-type {\n",
       "        vertical-align: middle;\n",
       "    }\n",
       "\n",
       "    .dataframe tbody tr th {\n",
       "        vertical-align: top;\n",
       "    }\n",
       "\n",
       "    .dataframe thead th {\n",
       "        text-align: right;\n",
       "    }\n",
       "</style>\n",
       "<table border=\"1\" class=\"dataframe\">\n",
       "  <thead>\n",
       "    <tr style=\"text-align: right;\">\n",
       "      <th></th>\n",
       "      <th>CreditScore</th>\n",
       "      <th>Tenure</th>\n",
       "      <th>Balance</th>\n",
       "      <th>NumOfProducts</th>\n",
       "      <th>HasCrCard</th>\n",
       "      <th>IsActiveMember</th>\n",
       "      <th>EstimatedSalary</th>\n",
       "      <th>Satisfaction Score</th>\n",
       "      <th>Point Earned</th>\n",
       "      <th>Gender_Female</th>\n",
       "      <th>...</th>\n",
       "      <th>Geography_Spain</th>\n",
       "      <th>Card Type_DIAMOND</th>\n",
       "      <th>Card Type_GOLD</th>\n",
       "      <th>Card Type_PLATINUM</th>\n",
       "      <th>Card Type_SILVER</th>\n",
       "      <th>Age_30-40</th>\n",
       "      <th>Age_40-50</th>\n",
       "      <th>Age_50-60</th>\n",
       "      <th>Age_&lt;30</th>\n",
       "      <th>Age_&gt;60</th>\n",
       "    </tr>\n",
       "  </thead>\n",
       "  <tbody>\n",
       "    <tr>\n",
       "      <th>0</th>\n",
       "      <td>-0.326221</td>\n",
       "      <td>2</td>\n",
       "      <td>-1.225848</td>\n",
       "      <td>0</td>\n",
       "      <td>1</td>\n",
       "      <td>1</td>\n",
       "      <td>0.021886</td>\n",
       "      <td>2</td>\n",
       "      <td>464</td>\n",
       "      <td>1</td>\n",
       "      <td>...</td>\n",
       "      <td>0</td>\n",
       "      <td>1</td>\n",
       "      <td>0</td>\n",
       "      <td>0</td>\n",
       "      <td>0</td>\n",
       "      <td>0</td>\n",
       "      <td>1</td>\n",
       "      <td>0</td>\n",
       "      <td>0</td>\n",
       "      <td>0</td>\n",
       "    </tr>\n",
       "    <tr>\n",
       "      <th>1</th>\n",
       "      <td>-0.440036</td>\n",
       "      <td>1</td>\n",
       "      <td>0.117350</td>\n",
       "      <td>0</td>\n",
       "      <td>0</td>\n",
       "      <td>1</td>\n",
       "      <td>0.216534</td>\n",
       "      <td>3</td>\n",
       "      <td>456</td>\n",
       "      <td>1</td>\n",
       "      <td>...</td>\n",
       "      <td>1</td>\n",
       "      <td>1</td>\n",
       "      <td>0</td>\n",
       "      <td>0</td>\n",
       "      <td>0</td>\n",
       "      <td>0</td>\n",
       "      <td>1</td>\n",
       "      <td>0</td>\n",
       "      <td>0</td>\n",
       "      <td>0</td>\n",
       "    </tr>\n",
       "    <tr>\n",
       "      <th>2</th>\n",
       "      <td>-1.536794</td>\n",
       "      <td>8</td>\n",
       "      <td>1.333053</td>\n",
       "      <td>1</td>\n",
       "      <td>1</td>\n",
       "      <td>0</td>\n",
       "      <td>0.240687</td>\n",
       "      <td>3</td>\n",
       "      <td>377</td>\n",
       "      <td>1</td>\n",
       "      <td>...</td>\n",
       "      <td>0</td>\n",
       "      <td>1</td>\n",
       "      <td>0</td>\n",
       "      <td>0</td>\n",
       "      <td>0</td>\n",
       "      <td>0</td>\n",
       "      <td>1</td>\n",
       "      <td>0</td>\n",
       "      <td>0</td>\n",
       "      <td>0</td>\n",
       "    </tr>\n",
       "    <tr>\n",
       "      <th>3</th>\n",
       "      <td>0.501521</td>\n",
       "      <td>1</td>\n",
       "      <td>-1.225848</td>\n",
       "      <td>1</td>\n",
       "      <td>0</td>\n",
       "      <td>0</td>\n",
       "      <td>-0.108918</td>\n",
       "      <td>5</td>\n",
       "      <td>350</td>\n",
       "      <td>1</td>\n",
       "      <td>...</td>\n",
       "      <td>0</td>\n",
       "      <td>0</td>\n",
       "      <td>1</td>\n",
       "      <td>0</td>\n",
       "      <td>0</td>\n",
       "      <td>1</td>\n",
       "      <td>0</td>\n",
       "      <td>0</td>\n",
       "      <td>0</td>\n",
       "      <td>0</td>\n",
       "    </tr>\n",
       "    <tr>\n",
       "      <th>4</th>\n",
       "      <td>2.063884</td>\n",
       "      <td>2</td>\n",
       "      <td>0.785728</td>\n",
       "      <td>0</td>\n",
       "      <td>1</td>\n",
       "      <td>1</td>\n",
       "      <td>-0.365276</td>\n",
       "      <td>5</td>\n",
       "      <td>425</td>\n",
       "      <td>1</td>\n",
       "      <td>...</td>\n",
       "      <td>1</td>\n",
       "      <td>0</td>\n",
       "      <td>1</td>\n",
       "      <td>0</td>\n",
       "      <td>0</td>\n",
       "      <td>0</td>\n",
       "      <td>1</td>\n",
       "      <td>0</td>\n",
       "      <td>0</td>\n",
       "      <td>0</td>\n",
       "    </tr>\n",
       "  </tbody>\n",
       "</table>\n",
       "<p>5 rows × 23 columns</p>\n",
       "</div>"
      ],
      "text/plain": [
       "   CreditScore  Tenure   Balance  NumOfProducts  HasCrCard  IsActiveMember  \\\n",
       "0    -0.326221       2 -1.225848              0          1               1   \n",
       "1    -0.440036       1  0.117350              0          0               1   \n",
       "2    -1.536794       8  1.333053              1          1               0   \n",
       "3     0.501521       1 -1.225848              1          0               0   \n",
       "4     2.063884       2  0.785728              0          1               1   \n",
       "\n",
       "   EstimatedSalary  Satisfaction Score  Point Earned  Gender_Female  ...  \\\n",
       "0         0.021886                   2           464              1  ...   \n",
       "1         0.216534                   3           456              1  ...   \n",
       "2         0.240687                   3           377              1  ...   \n",
       "3        -0.108918                   5           350              1  ...   \n",
       "4        -0.365276                   5           425              1  ...   \n",
       "\n",
       "   Geography_Spain  Card Type_DIAMOND  Card Type_GOLD  Card Type_PLATINUM  \\\n",
       "0                0                  1               0                   0   \n",
       "1                1                  1               0                   0   \n",
       "2                0                  1               0                   0   \n",
       "3                0                  0               1                   0   \n",
       "4                1                  0               1                   0   \n",
       "\n",
       "   Card Type_SILVER  Age_30-40  Age_40-50  Age_50-60  Age_<30  Age_>60  \n",
       "0                 0          0          1          0        0        0  \n",
       "1                 0          0          1          0        0        0  \n",
       "2                 0          0          1          0        0        0  \n",
       "3                 0          1          0          0        0        0  \n",
       "4                 0          0          1          0        0        0  \n",
       "\n",
       "[5 rows x 23 columns]"
      ]
     },
     "execution_count": 27,
     "metadata": {},
     "output_type": "execute_result"
    }
   ],
   "source": [
    "rawFeatureSel_df = pd.read_csv(r'featureIng_dataframe.csv')\n",
    "featureSel_df = rawFeatureSel_df.drop(columns=['Exited', 'Complain'])\n",
    "scaler = StandardScaler()\n",
    "featureSel_df[['CreditScore', 'Balance', 'EstimatedSalary']] = scaler.fit_transform(featureSel_df[['CreditScore', 'Balance', 'EstimatedSalary']])\n",
    "featureSel_df.head()\n",
    "featureSel_df.head()"
   ]
  },
  {
   "cell_type": "markdown",
   "metadata": {},
   "source": [
    "### Variance Threshold Feature Selection"
   ]
  },
  {
   "cell_type": "code",
   "execution_count": 28,
   "metadata": {},
   "outputs": [
    {
     "data": {
      "text/plain": [
       "CreditScore               1.000100\n",
       "Tenure                    8.364673\n",
       "Balance                   1.000100\n",
       "NumOfProducts             0.249954\n",
       "HasCrCard                 0.207791\n",
       "IsActiveMember            0.249797\n",
       "EstimatedSalary           1.000100\n",
       "Satisfaction Score        1.976607\n",
       "Point Earned          51042.032975\n",
       "Gender_Female             0.247936\n",
       "Gender_Male               0.247936\n",
       "Geography_France          0.250023\n",
       "Geography_Germany         0.187968\n",
       "Geography_Spain           0.186363\n",
       "Card Type_DIAMOND         0.187868\n",
       "Card Type_GOLD            0.187619\n",
       "Card Type_PLATINUM        0.187268\n",
       "Card Type_SILVER          0.187319\n",
       "Age_30-40                 0.245747\n",
       "Age_40-50                 0.193280\n",
       "Age_50-60                 0.079356\n",
       "Age_<30                   0.137185\n",
       "Age_>60                   0.049838\n",
       "dtype: float64"
      ]
     },
     "execution_count": 28,
     "metadata": {},
     "output_type": "execute_result"
    }
   ],
   "source": [
    "featureSel_df.var()"
   ]
  },
  {
   "cell_type": "markdown",
   "metadata": {},
   "source": [
    "Here we have the variability of each feature, with higher values indicating more variability. Features with very low variance, such as Age_>60 (0.0498), contribute little to differenciate between data points and can usually be removed."
   ]
  },
  {
   "cell_type": "code",
   "execution_count": 29,
   "metadata": {},
   "outputs": [
    {
     "data": {
      "text/plain": [
       "Index(['Tenure', 'Satisfaction Score', 'Point Earned'], dtype='object')"
      ]
     },
     "execution_count": 29,
     "metadata": {},
     "output_type": "execute_result"
    }
   ],
   "source": [
    "selector = VarianceThreshold(1)\n",
    "selector.fit(featureSel_df)\n",
    "featureSel_df.columns[selector.get_support()]"
   ]
  },
  {
   "cell_type": "markdown",
   "metadata": {},
   "source": [
    "Setting a threshold of 1 selects the three features with variability above that level: Tenure, Satisfaction Score, and Point Earned, indicating these have meaningful variance in the dataset. Lower threshold selections would include more features with smaller variances."
   ]
  },
  {
   "cell_type": "markdown",
   "metadata": {},
   "source": [
    "### Univariate Feature Selection with SelectKBest\n"
   ]
  },
  {
   "cell_type": "code",
   "execution_count": 30,
   "metadata": {},
   "outputs": [
    {
     "data": {
      "text/plain": [
       "Index(['Age_50-60', 'Age_<30'], dtype='object')"
      ]
     },
     "execution_count": 30,
     "metadata": {},
     "output_type": "execute_result"
    }
   ],
   "source": [
    "from sklearn.feature_selection import SelectKBest, mutual_info_regression\n",
    "selector = SelectKBest(mutual_info_regression, k=2)\n",
    "\n",
    "selector.fit(featureSel_df, rawFeatureSel_df['Exited'])\n",
    "featureSel_df.columns[selector.get_support()]"
   ]
  },
  {
   "cell_type": "markdown",
   "metadata": {},
   "source": [
    "Age_50-60 and Age_<30 have the highest relevance for predicting the target. These features were chosen over others as they provide the most useful information for the model."
   ]
  },
  {
   "cell_type": "markdown",
   "metadata": {},
   "source": [
    "### Recursive Feature Elimination (RFE)\n"
   ]
  },
  {
   "cell_type": "code",
   "execution_count": 34,
   "metadata": {},
   "outputs": [
    {
     "data": {
      "text/plain": [
       "Index(['CreditScore', 'Tenure', 'Balance', 'EstimatedSalary', 'Point Earned'], dtype='object')"
      ]
     },
     "execution_count": 34,
     "metadata": {},
     "output_type": "execute_result"
    }
   ],
   "source": [
    "rfe = RFE(estimator=RandomForestClassifier(), n_features_to_select=5)\n",
    "X = featureSel_df\n",
    "y = rawFeatureSel_df['Exited']\n",
    "\n",
    "rfe.fit(X, y)\n",
    "\n",
    "X.columns[rfe.get_support()]"
   ]
  },
  {
   "cell_type": "markdown",
   "metadata": {},
   "source": [
    "We choose a Random Forest for Recursive Feature Elimination (RFE) because it automatically shows which features are most important. The output indicates that CreditScore, Tenure, Balance, EstimatedSalary, and Point Earned are the top five features selected by the RFE method, meaning they have the highest relevance for predicting churn in the dataset. These features are considered the most influential in the model's performance."
   ]
  },
  {
   "cell_type": "markdown",
   "metadata": {},
   "source": [
    "### Feature Selection via SelectFromModel"
   ]
  },
  {
   "cell_type": "code",
   "execution_count": 37,
   "metadata": {},
   "outputs": [
    {
     "data": {
      "text/plain": [
       "Index(['CreditScore', 'Tenure', 'Balance', 'EstimatedSalary',\n",
       "       'Satisfaction Score', 'Point Earned', 'Age_50-60'],\n",
       "      dtype='object')"
      ]
     },
     "execution_count": 37,
     "metadata": {},
     "output_type": "execute_result"
    }
   ],
   "source": [
    "sfm = SelectFromModel(estimator=RandomForestClassifier())\n",
    "sfm.fit(X, y)\n",
    "\n",
    "X.columns[sfm.get_support()]"
   ]
  },
  {
   "cell_type": "markdown",
   "metadata": {},
   "source": [
    "In the selection via SelectFromModel we also used a Random Forest as estimator but we se how the outcome differs compared to the other methods. In this model we se how 'CreditScore', 'Tenure', 'Balance', 'EstimatedSalary', 'Satisfaction Score', 'Point Earned' and 'Age_50-60' might be the most influential in the model's performance."
   ]
  },
  {
   "cell_type": "markdown",
   "metadata": {},
   "source": [
    "### Feature Selection Sequential Feature Selection (SFS)"
   ]
  },
  {
   "cell_type": "code",
   "execution_count": 40,
   "metadata": {},
   "outputs": [
    {
     "name": "stdout",
     "output_type": "stream",
     "text": [
      "Index(['Age_30-40', 'Age_40-50', 'Age_<30'], dtype='object')\n"
     ]
    }
   ],
   "source": [
    "vt = VarianceThreshold(threshold=0.1)\n",
    "X_reduced = vt.fit_transform(X)\n",
    "\n",
    "sfs_selector = SequentialFeatureSelector(estimator=RandomForestClassifier(), n_features_to_select=3, cv=5, direction='backward', n_jobs=-1)\n",
    "sfs_selector.fit(X_reduced, y)\n",
    "\n",
    "selected_columns = X.columns[vt.get_support()][sfs_selector.get_support()]\n",
    "print(selected_columns)\n"
   ]
  },
  {
   "cell_type": "markdown",
   "metadata": {},
   "source": [
    "These age-related features were identified as the most relevant for predicting churn in the dataset by SFS, which is a method for selecting features by iteratively adding or removing them based on their importance, using again as a estimator, a RandomForestClassifier"
   ]
  }
 ],
 "metadata": {
  "kernelspec": {
   "display_name": "Python 3",
   "language": "python",
   "name": "python3"
  },
  "language_info": {
   "codemirror_mode": {
    "name": "ipython",
    "version": 3
   },
   "file_extension": ".py",
   "mimetype": "text/x-python",
   "name": "python",
   "nbconvert_exporter": "python",
   "pygments_lexer": "ipython3",
   "version": "3.12.6"
  }
 },
 "nbformat": 4,
 "nbformat_minor": 2
}
