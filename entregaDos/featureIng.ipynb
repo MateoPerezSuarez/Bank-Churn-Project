{
 "cells": [
  {
   "cell_type": "markdown",
   "metadata": {},
   "source": [
    "# Feature Ingeneering"
   ]
  },
  {
   "cell_type": "markdown",
   "metadata": {},
   "source": [
    "- Data Cleaning\n",
    "- Feature Encoding\n",
    "- Feature Scaling\n",
    "- Feature Transformation"
   ]
  }
 ],
 "metadata": {
  "language_info": {
   "name": "python"
  }
 },
 "nbformat": 4,
 "nbformat_minor": 2
}
